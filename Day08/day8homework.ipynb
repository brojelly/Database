{
 "cells": [
  {
   "cell_type": "markdown",
   "metadata": {},
   "source": [
    "MongoDB 데이터 삽입"
   ]
  },
  {
   "cell_type": "code",
   "execution_count": 1,
   "metadata": {},
   "outputs": [
    {
     "name": "stdout",
     "output_type": "stream",
     "text": [
      "Data inserted successfully\n"
     ]
    }
   ],
   "source": [
    "from pymongo import MongoClient\n",
    "from datetime import datetime\n",
    "\n",
    "def insert_data():\n",
    "    client = MongoClient('mongodb://localhost:27017/')\n",
    "    db = client.local  # 'local' 데이터베이스 사용\n",
    "\n",
    "    # 책 데이터 삽입\n",
    "    books = [\n",
    "        {\"title\": \"Kafka on the Shore\", \"author\": \"Haruki Murakami\", \"year\": 2002},\n",
    "        {\"title\": \"Norwegian Wood\", \"author\": \"Haruki Murakami\", \"year\": 1987},\n",
    "        {\"title\": \"1Q84\", \"author\": \"Haruki Murakami\", \"year\": 2009}\n",
    "    ]\n",
    "    db.books.insert_many(books)\n",
    "\n",
    "    # 영화 데이터 삽입\n",
    "    movies = [\n",
    "        {\"title\": \"Inception\", \"director\": \"Christopher Nolan\", \"year\": 2010, \"rating\": 8.8},\n",
    "        {\"title\": \"Interstellar\", \"director\": \"Christopher Nolan\", \"year\": 2014, \"rating\": 8.6},\n",
    "        {\"title\": \"The Dark Knight\", \"director\": \"Christopher Nolan\", \"year\": 2008, \"rating\": 9.0}\n",
    "    ]\n",
    "    db.movies.insert_many(movies)\n",
    "\n",
    "    # 사용자 행동 데이터 삽입\n",
    "    user_actions = [\n",
    "        {\"user_id\": 1, \"action\": \"click\", \"timestamp\": datetime(2023, 4, 12, 8, 0)},\n",
    "        {\"user_id\": 1, \"action\": \"view\", \"timestamp\": datetime(2023, 4, 12, 9, 0)},\n",
    "        {\"user_id\": 2, \"action\": \"purchase\", \"timestamp\": datetime(2023, 4, 12, 10, 0)},\n",
    "    ]\n",
    "    db.user_actions.insert_many(user_actions)\n",
    "\n",
    "    print(\"Data inserted successfully\")\n",
    "    client.close()\n",
    "\n",
    "if __name__ == \"__main__\":\n",
    "    insert_data()\n"
   ]
  },
  {
   "cell_type": "markdown",
   "metadata": {},
   "source": [
    "MongoDB 5문제 풀기  \n",
    "**[문제 1: 특정 장르의 책 찾기]**  \n",
    "\n",
    "- **문제 설명**:  \n",
    "데이터베이스에 새로운 필드로 **`genre`**를 책 데이터에 추가하였습니다. 사용자는 \"fantasy\" 장르의 모든 책을 찾고 싶어합니다.  \n",
    "- **쿼리 작성 목표**:  \n",
    "\"fantasy\" 장르에 해당하는 모든 책의 제목과 저자를 찾는 MongoDB 쿼리를 함수로 만들어 문제를 해결해 봅니다.  "
   ]
  },
  {
   "cell_type": "code",
   "execution_count": 8,
   "metadata": {},
   "outputs": [
    {
     "data": {
      "text/plain": [
       "UpdateResult({'n': 1, 'nModified': 0, 'ok': 1.0, 'updatedExisting': True}, acknowledged=True)"
      ]
     },
     "execution_count": 8,
     "metadata": {},
     "output_type": "execute_result"
    }
   ],
   "source": [
    "from pymongo import MongoClient\n",
    "\n",
    "client = MongoClient(\"mongodb://localhost:27017/\")\n",
    "db = client.local\n",
    "\n",
    "db.books.update_one(\n",
    "    {\"title\": \"Kafka on the Shore\"},\n",
    "    {\"$set\": {\"genre\": \"fantasy\"}}\n",
    ")"
   ]
  },
  {
   "cell_type": "code",
   "execution_count": 9,
   "metadata": {},
   "outputs": [
    {
     "name": "stdout",
     "output_type": "stream",
     "text": [
      "{'_id': ObjectId('67e4d48ad464a45a14e2a9c7'), 'title': 'Kafka on the Shore', 'author': 'Haruki Murakami', 'year': 2002, 'genre': 'fantasy'}\n"
     ]
    }
   ],
   "source": [
    "from pymongo import MongoClient\n",
    "\n",
    "client = MongoClient(\"mongodb://localhost:27017/\")\n",
    "db = client.local\n",
    "\n",
    "# fantasy 장르의 책 찾기\n",
    "fantasy_books = db.books.find({ \"genre\": \"fantasy\" })\n",
    "\n",
    "for book in fantasy_books:\n",
    "    print(book)\n"
   ]
  },
  {
   "cell_type": "markdown",
   "metadata": {},
   "source": [
    "**[문제 2: 감독별 평균 영화 평점 계산]**  \n",
    "\n",
    "- **문제 설명**:  \n",
    "각 영화 감독별로 그들의 영화 평점의 평균을 계산하고 싶습니다. 이를 통해 어떤 감독이 가장 높은 평균 평점을 가지고 있는지 알아볼 수 있습니다.  \n",
    "- **쿼리 작성 목표**:  \n",
    "모든 영화 감독의 영화 평점 평균을 계산하고, 평균 평점이 높은 순으로 정렬하는 MongoDB 쿼리를 함수로 만들어 문제를 해결해 봅니다.  "
   ]
  },
  {
   "cell_type": "code",
   "execution_count": 22,
   "metadata": {},
   "outputs": [
    {
     "name": "stdout",
     "output_type": "stream",
     "text": [
      "📊 감독별 평균 평점:\n",
      "Christopher Nolan: 8.8\n"
     ]
    }
   ],
   "source": [
    "from pymongo import MongoClient\n",
    "\n",
    "client = MongoClient(\"mongodb://localhost:27017/\")\n",
    "db = client.local\n",
    "\n",
    "pipeline = [\n",
    "    {\n",
    "        \"$group\": {\n",
    "            \"_id\": \"$director\",\n",
    "            \"avgRating\": { \"$avg\": \"$rating\" }\n",
    "        }\n",
    "    },\n",
    "    {\n",
    "        \"$sort\": { \"avgRating\": -1 }\n",
    "    }\n",
    "]\n",
    "\n",
    "result = db.movies.aggregate(pipeline)\n",
    "print(\"📊 감독별 평균 평점:\")\n",
    "for doc in result:\n",
    "    print(f\"{doc['_id']}: {round(doc['avgRating'], 2)}\")\n",
    "\n",
    "client.close()"
   ]
  },
  {
   "cell_type": "markdown",
   "metadata": {},
   "source": [
    "**[문제 3: 특정 사용자의 최근 행동 조회]**  \n",
    "\n",
    "- **문제 설명**:  \n",
    "특정 사용자의 최근 행동 로그를 조회하고자 합니다. 이 때, 최신 순으로 정렬하여 최근 5개의 행동만을 보고 싶습니다.  \n",
    "- **쿼리 작성 목표**:  \n",
    "사용자 ID가 1인 사용자의 최근 행동 5개를 시간 순으로 정렬하여 조회하는 MongoDB 쿼리를 함수로 만들어 문제를 해결해 봅니다.  "
   ]
  },
  {
   "cell_type": "code",
   "execution_count": 26,
   "metadata": {},
   "outputs": [
    {
     "name": "stdout",
     "output_type": "stream",
     "text": [
      "📄 사용자 1의 최근 행동 5개:\n",
      "2023-04-12 09:00:00 - view\n",
      "2023-04-12 09:00:00 - view\n",
      "2023-04-12 08:00:00 - click\n",
      "2023-04-12 08:00:00 - click\n"
     ]
    }
   ],
   "source": [
    "from pymongo import MongoClient\n",
    "\n",
    "def get_recent_actions(user_id):\n",
    "    client = MongoClient(\"mongodb://localhost:27017/\")\n",
    "    db = client.local\n",
    "\n",
    "    actions = db.user_actions.find(\n",
    "        { \"user_id\": user_id }\n",
    "    ).sort(\"timestamp\", -1).limit(5)\n",
    "\n",
    "    print(f\"📄 사용자 {user_id}의 최근 행동 5개:\")\n",
    "    for action in actions:\n",
    "        print(f\"{action['timestamp']} - {action['action']}\")\n",
    "\n",
    "    client.close()\n",
    "\n",
    "get_recent_actions(1)\n",
    "\n"
   ]
  },
  {
   "cell_type": "markdown",
   "metadata": {},
   "source": [
    "**[문제 4: 출판 연도별 책의 수 계산]**\n",
    "\n",
    "- **문제 설명** :\n",
    "데이터베이스에 저장된 책 데이터를 이용하여 각 출판 연도별로 출판된 책의 수를 계산하고자 합니다. 이 데이터는 시간에 따른 출판 트렌드를 분석하는 데 사용될 수 있습니다.\n",
    "- **쿼리 작성 목표** :\n",
    "각 출판 연도별로 출판된 책의 수를 계산하고, 출판된 책의 수가 많은 순서대로 정렬하는 MongoDB 쿼리를 함수로 만들어 문제를 해결해 봅니다."
   ]
  },
  {
   "cell_type": "code",
   "execution_count": 27,
   "metadata": {},
   "outputs": [
    {
     "name": "stdout",
     "output_type": "stream",
     "text": [
      "📚 출판 연도별 책 수 (많은 순):\n",
      "1987년: 2권\n",
      "2009년: 2권\n",
      "2002년: 2권\n"
     ]
    }
   ],
   "source": [
    "from pymongo import MongoClient\n",
    "\n",
    "def count_books_by_year():\n",
    "    client = MongoClient(\"mongodb://localhost:27017/\")\n",
    "    db = client.local\n",
    "\n",
    "    pipeline = [\n",
    "        {\n",
    "            \"$group\": {\n",
    "                \"_id\": \"$year\",\n",
    "                \"bookCount\": { \"$sum\": 1 }\n",
    "            }\n",
    "        },\n",
    "        {\n",
    "            \"$sort\": { \"bookCount\": -1 }\n",
    "        }\n",
    "    ]\n",
    "\n",
    "    results = db.books.aggregate(pipeline)\n",
    "\n",
    "    print(\"📚 출판 연도별 책 수 (많은 순):\")\n",
    "    for doc in results:\n",
    "        print(f\"{doc['_id']}년: {doc['bookCount']}권\")\n",
    "\n",
    "    client.close()\n",
    "count_books_by_year()"
   ]
  },
  {
   "cell_type": "markdown",
   "metadata": {},
   "source": [
    "**[문제 5: 특정 사용자의 행동 유형 업데이트]**  \n",
    "- **문제 설명**:  \n",
    "특정 사용자의 행동 로그 중, 특정 날짜 이전의 \"view\" 행동을 \"seen\"으로 변경하고 싶습니다. 예를 들어, 사용자 ID가 1인 사용자의 2023년 4월 13일 이전의 모든 \"view\" 행동을 \"seen\"으로 변경하는 작업입니다.  \n",
    "- **쿼리 작성 목표**:  \n",
    "사용자 ID가 1인 사용자의 2023년 4월 13일 이전의 \"view\" 행동을 \"seen\"으로 변경하는 MongoDB 업데이트 쿼리를 함수로 만들어 문제를 해결해 봅니다.  "
   ]
  },
  {
   "cell_type": "code",
   "execution_count": 28,
   "metadata": {},
   "outputs": [
    {
     "name": "stdout",
     "output_type": "stream",
     "text": [
      "✅ 업데이트된 문서 수: 2개\n"
     ]
    }
   ],
   "source": [
    "from pymongo import MongoClient\n",
    "from datetime import datetime\n",
    "\n",
    "def update_view_to_seen(user_id, before_date):\n",
    "    client = MongoClient(\"mongodb://localhost:27017/\")\n",
    "    db = client.local\n",
    "\n",
    "    result = db.user_actions.update_many(\n",
    "        {\n",
    "            \"user_id\": user_id,\n",
    "            \"action\": \"view\",\n",
    "            \"timestamp\": { \"$lt\": before_date }\n",
    "        },\n",
    "        {\n",
    "            \"$set\": { \"action\": \"seen\" }\n",
    "        }\n",
    "    )\n",
    "\n",
    "    print(f\"✅ 업데이트된 문서 수: {result.modified_count}개\")\n",
    "\n",
    "    client.close()\n",
    "update_view_to_seen(1, datetime(2023, 4, 13))"
   ]
  }
 ],
 "metadata": {
  "kernelspec": {
   "display_name": ".venv",
   "language": "python",
   "name": "python3"
  },
  "language_info": {
   "codemirror_mode": {
    "name": "ipython",
    "version": 3
   },
   "file_extension": ".py",
   "mimetype": "text/x-python",
   "name": "python",
   "nbconvert_exporter": "python",
   "pygments_lexer": "ipython3",
   "version": "3.13.1"
  }
 },
 "nbformat": 4,
 "nbformat_minor": 2
}
